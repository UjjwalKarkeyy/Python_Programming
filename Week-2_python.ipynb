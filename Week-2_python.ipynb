{
 "cells": [
  {
   "cell_type": "markdown",
   "metadata": {},
   "source": [
    "# <center> <b> Week 2 Python Programming </b></center>\n",
    "## <center> <u>Author: Ujjwal Karki </u></center>"
   ]
  },
  {
   "cell_type": "markdown",
   "metadata": {},
   "source": [
    " ## <i><b> Introduction to this week's Jupyter Notebook's Work </b></i>\n",
    "\n",
    " The lessons this week were focused on core notions of programming; we established the base with control structures and function handling. We learned about the for loop iterations through lists and range with start, stop, and step. For loops made our work easier and when working with functions we learnt about parameters, arguments, default and arbitrary arguments and the return statement. Regarding the process of error management, we were ready for it by means of exception handling. Lastly, lambda functions defined the way of concise functions’ writing. With these skills, we solved simple examples, therefore making it easier for us to have a firm grasp on how to deal with each type of problem."
   ]
  },
  {
   "cell_type": "markdown",
   "metadata": {},
   "source": [
    "## <i> For Loop </i>\n",
    "Iterate over list, range (enumarator)"
   ]
  },
  {
   "cell_type": "code",
   "execution_count": 8,
   "metadata": {},
   "outputs": [
    {
     "name": "stdout",
     "output_type": "stream",
     "text": [
      "1\n",
      "2\n",
      "3\n",
      "4\n",
      "5\n",
      "3\n",
      "11\n",
      "100\n",
      "\n",
      "Even list:\n",
      "2\n",
      "4\n",
      "100\n",
      "\n",
      "List without duplicates:\n",
      "1\n",
      "2\n",
      "3\n",
      "4\n",
      "5\n",
      "11\n",
      "100\n"
     ]
    }
   ],
   "source": [
    "numbers = [1,2,3,4,5,3,11,100] # list of integers\n",
    "\n",
    "# counter = 0\n",
    "\n",
    "# while counter < len(numbers):\n",
    "#     print(numbers[counter])\n",
    "#     counter += 1\n",
    "\n",
    "#Iterate over list\n",
    "for i in numbers:\n",
    "    print(i) # prints each number in the list\n",
    "\n",
    "#Create a new list of even numbers from the given list\n",
    "\n",
    "even = []\n",
    "for i in numbers:\n",
    "    if i % 2 == 0:\n",
    "        even.append(i)\n",
    "\n",
    "print(\"\\nEven list:\")\n",
    "for i in even:\n",
    "    print(i) # prints each even number in the list\n",
    "\n",
    "#Remove duplicate items from given list\n",
    "\n",
    "numbers = [1,1,2,3,4,5,3,11,100] #list of int\n",
    "new_list = []\n",
    "\n",
    "for i in numbers:\n",
    "    if i not in new_list:\n",
    "        new_list.append(i)\n",
    "\n",
    "print(\"\\nList without duplicates:\")\n",
    "for i in new_list:\n",
    "\n",
    "    print(i)"
   ]
  },
  {
   "cell_type": "markdown",
   "metadata": {},
   "source": [
    "### Range\n",
    "range (start,stop,step)"
   ]
  },
  {
   "cell_type": "code",
   "execution_count": 11,
   "metadata": {},
   "outputs": [
    {
     "name": "stdout",
     "output_type": "stream",
     "text": [
      "0\n",
      "2\n",
      "4\n",
      "6\n",
      "8\n",
      "10\n",
      "12\n",
      "14\n",
      "16\n",
      "18\n",
      "20\n",
      "22\n",
      "24\n",
      "26\n",
      "28\n",
      "30\n",
      "32\n",
      "34\n",
      "36\n",
      "38\n",
      "40\n",
      "42\n",
      "44\n",
      "46\n",
      "48\n",
      "50\n",
      "52\n",
      "54\n",
      "56\n",
      "58\n",
      "60\n",
      "62\n",
      "64\n",
      "66\n",
      "68\n",
      "70\n",
      "72\n",
      "74\n",
      "76\n",
      "78\n",
      "80\n",
      "82\n",
      "84\n",
      "86\n",
      "88\n",
      "90\n",
      "92\n",
      "94\n",
      "96\n",
      "98\n",
      "100\n"
     ]
    }
   ],
   "source": [
    "# range_of_100 = range(1,101)\n",
    "\n",
    "for i in range(0,101, 2): # Added a step of 2\n",
    "    print(i)"
   ]
  },
  {
   "cell_type": "markdown",
   "metadata": {},
   "source": [
    "#### Inline for loop"
   ]
  },
  {
   "cell_type": "code",
   "execution_count": 8,
   "metadata": {},
   "outputs": [
    {
     "name": "stdout",
     "output_type": "stream",
     "text": [
      "[1, 200, 3, 400, 5, 600, 8800, 19]\n"
     ]
    }
   ],
   "source": [
    "numbers = [1,2,3,4,5,6,88,19]\n",
    "\n",
    "# new_list_even = [i for i in numbers if i % 2 == 0]\n",
    "\n",
    "# print([i*100 for i in numbers if i % 2 ==0])\n",
    "\n",
    "print([(i*100 if i % 2 == 0 else i) for i in numbers]) # Used tertiary operator which in C was if(i%2 == 0)?i*100:i\n",
    "\n",
    "# print([i for i in numbers if i % 2 ==0] * 2) # Last *2 tells how many times to print this list"
   ]
  },
  {
   "cell_type": "markdown",
   "metadata": {},
   "source": [
    "## Function\n",
    "- A function is a block of code which only runs when it is called.\n",
    "- You can pass data, known as parameters, into a function.\n",
    "- A function can return data as a result.\n",
    "\n",
    "## <u> Syntax of Function in Python </u>\n",
    "\n",
    "def function_name(parameters):\n",
    "    \n",
    "    --> code to be executed. For e.g., printing here\n",
    "\n",
    "    print(\"Hello World\")\n",
    "    return (if there is something to return)"
   ]
  },
  {
   "cell_type": "code",
   "execution_count": 2,
   "metadata": {},
   "outputs": [
    {
     "name": "stdout",
     "output_type": "stream",
     "text": [
      "5\n",
      "6\n",
      "No argument function\n"
     ]
    }
   ],
   "source": [
    "# Function to add two numbers.\n",
    "def sum_of_two_numbers(a,b):\n",
    "    return a + b\n",
    "\n",
    "print(sum_of_two_numbers(3,2))\n",
    "\n",
    "# Function to multiply two numbers.\n",
    "def multiply_two_numbers(x,y):\n",
    "    return x * y\n",
    "\n",
    "print(multiply_two_numbers(3,2))\n",
    "\n",
    "display_info()"
   ]
  },
  {
   "cell_type": "markdown",
   "metadata": {},
   "source": [
    "### Parameters and arguments\n"
   ]
  },
  {
   "cell_type": "code",
   "execution_count": null,
   "metadata": {},
   "outputs": [],
   "source": [
    "#creating a function without passing arguments\n",
    "def display_info():\n",
    "    print(\"No argument function\")"
   ]
  },
  {
   "cell_type": "markdown",
   "metadata": {},
   "source": [
    "### Default arguments\n",
    "- We can specify default values for function parameters.\n",
    "- If no value is passed for a default parameter, the value is default"
   ]
  },
  {
   "cell_type": "code",
   "execution_count": 4,
   "metadata": {},
   "outputs": [
    {
     "name": "stdout",
     "output_type": "stream",
     "text": [
      "Hello Default value!\n",
      "Hello Ujjwal!\n",
      "0\n",
      "7\n"
     ]
    }
   ],
   "source": [
    "def greet(name = \"Default value\"):\n",
    "    print(f\"Hello {name}!\")\n",
    "\n",
    "def sum(a = 0, b = 0):\n",
    "    return a + b\n",
    "\n",
    "greet()\n",
    "greet(\"Ujjwal\")\n",
    "print(sum())\n",
    "print(sum(3,4))"
   ]
  },
  {
   "cell_type": "markdown",
   "metadata": {},
   "source": [
    "### Arbitrary Arguments:\n",
    "- Functions can accept a variable number of arguments using *args or **kwargs (keyword arguments)\n",
    "- *args is used to pass a variable number of positoinal arguments, while **kwargs is used to pass a variable number of keyword arguments"
   ]
  },
  {
   "cell_type": "code",
   "execution_count": 5,
   "metadata": {},
   "outputs": [
    {
     "name": "stdout",
     "output_type": "stream",
     "text": [
      "1 2\n",
      "(3, 4, 5, 6, 7, 8, 9)\n"
     ]
    }
   ],
   "source": [
    "def add(a,b,*args):\n",
    "    print(a,b)\n",
    "    print(args)\n",
    "\n",
    "add(1,2,3,4,5,6,7,8,9)\n"
   ]
  },
  {
   "cell_type": "markdown",
   "metadata": {},
   "source": [
    "### Return statement\n",
    " - Functions can return a value using return statement\n",
    " - If no return statement is provided, the function returns None by default"
   ]
  },
  {
   "cell_type": "code",
   "execution_count": 16,
   "metadata": {},
   "outputs": [
    {
     "name": "stdout",
     "output_type": "stream",
     "text": [
      "Odd\n"
     ]
    },
    {
     "data": {
      "text/plain": [
       "False"
      ]
     },
     "execution_count": 16,
     "metadata": {},
     "output_type": "execute_result"
    }
   ],
   "source": [
    "def even_or_odd(number):\n",
    "    if number % 2 == 0:\n",
    "        return \"Even\"\n",
    "    \n",
    "    return \"Odd\"\n",
    "\n",
    "a = even_or_odd(5)\n",
    "print(a)\n",
    "\n",
    "# If we want to define the return type we use \"->return_data_type\"\n",
    "def even(number)->bool:\n",
    "    if number % 2 == 0:\n",
    "        return True\n",
    "    \n",
    "    return False\n",
    "\n",
    "even(5)"
   ]
  },
  {
   "cell_type": "markdown",
   "metadata": {},
   "source": [
    "### Exception handling\n",
    "\n",
    "- try: Tries to execute a block of code\n",
    "- except: Excepts an error like a ZeroDivisionError\n",
    "- else: If the error is not the one that we expected then we do what we want to when we encounter an error\n",
    "- finally: Works after try and except are done. Useful for executing any code which needs to be executed even after performing try and except."
   ]
  },
  {
   "cell_type": "code",
   "execution_count": 27,
   "metadata": {},
   "outputs": [
    {
     "name": "stdout",
     "output_type": "stream",
     "text": [
      "division by zero\n",
      "After performing the calculation, the answer is: None\n"
     ]
    }
   ],
   "source": [
    "# Write a function that accepts values (arguments) x,y,operation where x => int, y => int, operation => string (+,-,/,*)\n",
    "# Function should return the output based on the operation\n",
    "# i.e., if operation = + (add)\n",
    "\n",
    "def calculator(x : int,y : int,operator : str):\n",
    "\n",
    "    if(operator == \"+\"):\n",
    "        return x + y\n",
    "    elif(operator == \"-\"):\n",
    "        return x - y\n",
    "    elif(operator == \"/\"):\n",
    "        try:\n",
    "            return x/y\n",
    "        except ZeroDivisionError as er:\n",
    "            print(er)\n",
    "            return None\n",
    "    elif(operator == \"*\"):\n",
    "        return x * y\n",
    "    else:\n",
    "        print(\"Invalid operator!\")\n",
    "\n",
    "a = int(input(\"Enter the first number (make sure this is greater): \"))\n",
    "b = int(input(\"Enter the second number: \"))\n",
    "op = str(input(\"Enter the operator: \"))\n",
    "\n",
    "# print(f\"After performing the calculation, the answer is: {calculator(a,b,op)}\")\n",
    "\n",
    "print(\"After performing the calculation, the answer is: \" + str(calculator(a,b,op)))"
   ]
  },
  {
   "cell_type": "markdown",
   "metadata": {},
   "source": [
    "### Lambda Function"
   ]
  },
  {
   "cell_type": "code",
   "execution_count": 29,
   "metadata": {},
   "outputs": [
    {
     "name": "stdout",
     "output_type": "stream",
     "text": [
      "4\n"
     ]
    }
   ],
   "source": [
    "sqr = lambda x: x ** 2\n",
    "print(sqr(2))"
   ]
  },
  {
   "cell_type": "markdown",
   "metadata": {},
   "source": [
    "### Questions:"
   ]
  },
  {
   "cell_type": "markdown",
   "metadata": {},
   "source": [
    "- Swapping two numbers without using a third variable"
   ]
  },
  {
   "cell_type": "code",
   "execution_count": null,
   "metadata": {},
   "outputs": [
    {
     "name": "stdout",
     "output_type": "stream",
     "text": [
      "The number of vowels are: 2\n"
     ]
    }
   ],
   "source": [
    "a = 10\n",
    "b = 5\n",
    "\n",
    "def swap(a,b):\n",
    "    a = a + b\n",
    "    b = a - b\n",
    "    a = a - b\n",
    "    print(f\"After swapping: {a} and {b}\")\n",
    "\n",
    "swap(a,b)"
   ]
  },
  {
   "cell_type": "markdown",
   "metadata": {},
   "source": [
    "- Finding if an inpute is palindrome or not"
   ]
  },
  {
   "cell_type": "code",
   "execution_count": null,
   "metadata": {},
   "outputs": [],
   "source": [
    "# name = str(input(\"Enter the value: \"))\n",
    "# rev = ''\n",
    "# counter = len(name) - 1\n",
    "# def palin(name: str):\n",
    "\n",
    "#     while(counter >= 0):\n",
    "#         rev += name[counter]\n",
    "\n",
    "# if(rev == name):\n",
    "#     print(f\"{name} is a palindrome\")\n",
    "\n",
    "# else:\n",
    "#     print(f\"{name} is not a palindrome\")\n",
    "\n",
    "def one_line_palin(name: str):\n",
    "    if name == name[::-1]:\n",
    "\n",
    "        print(\"Palindrome\")\n",
    "\n",
    "    else:\n",
    "        print(\"Not a palindrome\")\n",
    "\n",
    "one_line_palin(\"aba\")"
   ]
  },
  {
   "cell_type": "markdown",
   "metadata": {},
   "source": [
    "- Check the total number of vowels in a sentence\n"
   ]
  },
  {
   "cell_type": "code",
   "execution_count": 2,
   "metadata": {},
   "outputs": [
    {
     "name": "stdout",
     "output_type": "stream",
     "text": [
      "The number of vowels are: 2\n"
     ]
    }
   ],
   "source": [
    "\n",
    "def count_vowels(name: str):\n",
    "    num_of_vowels = 0\n",
    "    count = 0\n",
    "    vowels = ['a','e','i','o','u']\n",
    "    while (count < len(name)):\n",
    "\n",
    "        if(name[count].lower() in vowels):\n",
    "            num_of_vowels += 1\n",
    "\n",
    "        count += 1\n",
    "    return num_of_vowels\n",
    "    \n",
    "num_of_vowels = count_vowels(\"Ujjwal\")\n",
    "print(f\"The number of vowels are: {num_of_vowels}\")"
   ]
  },
  {
   "cell_type": "markdown",
   "metadata": {},
   "source": [
    "- write a function Find the common elements between two lists\n"
   ]
  },
  {
   "cell_type": "code",
   "execution_count": 7,
   "metadata": {},
   "outputs": [
    {
     "name": "stdout",
     "output_type": "stream",
     "text": [
      "[10, 4, 5, 6]\n"
     ]
    }
   ],
   "source": [
    "def find_common_elements(firlist, seclist):\n",
    "    count = 0\n",
    "    common_list = []\n",
    "    while(count < len(firlist)):\n",
    "        if(firlist[count] in seclist):\n",
    "            common_list.append(firlist[count])\n",
    "\n",
    "        count += 1\n",
    "\n",
    "    return common_list\n",
    "\n",
    "print(find_common_elements([10,2,3,4,5,6], [4,5,5,6,7,8,9,10]))\n"
   ]
  },
  {
   "cell_type": "markdown",
   "metadata": {},
   "source": [
    "- write a function to Check if a given number is a perfect square"
   ]
  },
  {
   "cell_type": "code",
   "execution_count": 7,
   "metadata": {},
   "outputs": [
    {
     "name": "stdout",
     "output_type": "stream",
     "text": [
      "Not a perfect square!\n"
     ]
    }
   ],
   "source": [
    "def is_perfect_square(num):\n",
    "\n",
    "    if(num == 0 or num == 1):\n",
    "        return 1\n",
    "\n",
    "    for i in range(1, num//2):\n",
    "        if(i*i == num):\n",
    "            return 1\n",
    "    \n",
    "    return 0\n",
    "\n",
    "if(is_perfect_square(69)):\n",
    "    print(\"A perfect square!\")\n",
    "\n",
    "else:\n",
    "    print(\"Not a perfect square!\")\n",
    "\n",
    "    \n",
    "\n"
   ]
  },
  {
   "cell_type": "markdown",
   "metadata": {},
   "source": [
    "- write a function Count the occurrences of a specific character in a string"
   ]
  },
  {
   "cell_type": "code",
   "execution_count": 17,
   "metadata": {},
   "outputs": [
    {
     "name": "stdout",
     "output_type": "stream",
     "text": [
      "The count is:  4\n"
     ]
    }
   ],
   "source": [
    "def how_many_a(sentenc):\n",
    "    occur = 0\n",
    "    count = 0\n",
    "    check = 'a'\n",
    "\n",
    "    while (count < len(sentenc)):\n",
    "        if(check == sentenc[count].lower()):\n",
    "            occur += 1\n",
    "        count += 1\n",
    "\n",
    "    return occur\n",
    "\n",
    "print(\"The count is: \", how_many_a(\"Hello there, my naame is Ujjwal Karki!\"))"
   ]
  },
  {
   "cell_type": "markdown",
   "metadata": {},
   "source": [
    "- Write a function to Find the second largest number in a list"
   ]
  },
  {
   "cell_type": "code",
   "execution_count": 19,
   "metadata": {},
   "outputs": [
    {
     "name": "stdout",
     "output_type": "stream",
     "text": [
      "The second largest value in the list is:  8\n"
     ]
    }
   ],
   "source": [
    "def second_largest_num(num_list):\n",
    "    larg = num_list[0]\n",
    "    sec_larg = num_list[0]\n",
    "\n",
    "    for i in num_list:\n",
    "        if(i > larg):\n",
    "            temp = larg\n",
    "            larg = i\n",
    "            sec_larg = temp\n",
    "    \n",
    "    return sec_larg\n",
    "\n",
    "num_list = [4,5,8,7,6,9]\n",
    "print(\"The second largest value in the list is: \", second_largest_num(num_list))\n",
    "\n",
    "\n",
    "\n"
   ]
  },
  {
   "cell_type": "markdown",
   "metadata": {},
   "source": [
    "- Write a function to remove duplicates from a list"
   ]
  },
  {
   "cell_type": "code",
   "execution_count": 1,
   "metadata": {},
   "outputs": [
    {
     "name": "stdout",
     "output_type": "stream",
     "text": [
      "The list with duplication removed is:  ['a', 'b', 'd', 'e', 'f', 'g']\n"
     ]
    }
   ],
   "source": [
    "def remove_duplicates(argu_list):\n",
    "    temp_list = []\n",
    "\n",
    "    for i in argu_list:\n",
    "\n",
    "        if(i not in temp_list):\n",
    "            temp_list.append(i)\n",
    "        \n",
    "    return temp_list  \n",
    "\n",
    "dupli_containing_list = ['a','b','b','d','d','e','f','g','g']\n",
    "print(\"The list with duplication removed is: \", remove_duplicates(dupli_containing_list))"
   ]
  },
  {
   "cell_type": "markdown",
   "metadata": {},
   "source": [
    "- Write a function that prints the multiplication table of given number"
   ]
  },
  {
   "cell_type": "code",
   "execution_count": 2,
   "metadata": {},
   "outputs": [
    {
     "name": "stdout",
     "output_type": "stream",
     "text": [
      "2 x 1 = 2\n",
      "2 x 2 = 4\n",
      "2 x 3 = 6\n",
      "2 x 4 = 8\n",
      "2 x 5 = 10\n",
      "2 x 6 = 12\n",
      "2 x 7 = 14\n",
      "2 x 8 = 16\n",
      "2 x 9 = 18\n",
      "2 x 10 = 20\n"
     ]
    }
   ],
   "source": [
    "def multi_table_print(num):\n",
    "\n",
    "    for i in range(1,11):\n",
    "\n",
    "        print(num,\"x\", i, \"=\", (num*i))\n",
    "\n",
    "\n",
    "num = int(input(\"Enter the number for multiplication table: \"))\n",
    "multi_table_print(num)\n"
   ]
  },
  {
   "cell_type": "markdown",
   "metadata": {},
   "source": [
    "- Write a function Check if a number is prime"
   ]
  },
  {
   "cell_type": "code",
   "execution_count": 7,
   "metadata": {},
   "outputs": [
    {
     "name": "stdout",
     "output_type": "stream",
     "text": [
      "Prime\n"
     ]
    }
   ],
   "source": [
    "def prime_or_not(num):\n",
    "    count = 0\n",
    "    for i in range(1,(num+1)):\n",
    "        if(num % i == 0):\n",
    "            count += 1\n",
    "\n",
    "    if(count <= 2):\n",
    "        return True\n",
    "    \n",
    "    else:\n",
    "        return False\n",
    "\n",
    "num = int(input(\"Enter the number: \"))\n",
    "if(prime_or_not(num)):\n",
    "    print(\"Prime\")\n",
    "\n",
    "else:\n",
    "    print(\"Not Prime\")"
   ]
  }
 ],
 "metadata": {
  "kernelspec": {
   "display_name": "Python 3",
   "language": "python",
   "name": "python3"
  },
  "language_info": {
   "codemirror_mode": {
    "name": "ipython",
    "version": 3
   },
   "file_extension": ".py",
   "mimetype": "text/x-python",
   "name": "python",
   "nbconvert_exporter": "python",
   "pygments_lexer": "ipython3",
   "version": "3.10.12"
  }
 },
 "nbformat": 4,
 "nbformat_minor": 2
}
