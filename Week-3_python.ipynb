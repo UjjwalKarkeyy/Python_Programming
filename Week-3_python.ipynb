{
 "cells": [
  {
   "cell_type": "markdown",
   "metadata": {},
   "source": [
    "# <center><b>Week-3 Python Programming</b></center>\n",
    "## <center><b>Learning Pandas</b></center>\n",
    "## <u><center>Author: Ujjwal Karki</center></u>"
   ]
  },
  {
   "cell_type": "markdown",
   "metadata": {},
   "source": [
    "## Introduction\n",
    "This notebook consists of the work from our Python course's third week activities. This week, we studied about modules, packages, and libraries. While studying about libraries we jumped towards the well-known library of Python i.e., Pandas. Since it is a library, Pandas needs to be imported into our program to use its functionality. Pandas has its own data format which is called a DataFrame. Within this DataFrame, we can write down data as key value pairs where values can also be list, tuples, etc. This is corresponding to field and rows of a table and once we output this DataFrame, it is represented in a similar format of a table. We then learned to read and save csv, excel, and json files using Pandas. Then we moved onto data exploration with Pandas. Basically, we learned about three things here: shape, head, tail, info, and describe. To briefly say what they all do:\n",
    "- shape: provides the numbers of rows and columns of the DataFrame\n",
    "- head and tail: head provides the first 5 data by default and tail vice-versa.\n",
    "- info: provides the number of rows and columns as well as the data type of the data and the memory space that DataFrame takes, etc.\n",
    "- describe: It describes the basic calculations of the DataFrame like the mean, quartiles, and all.<br><br>\n",
    "The last topic was data selection and indexing. There are four techniques that we learned about. Firstly, basic indexing. As the name suggests, while performing this indexing, we can simply pass down the name of the field in single or multiple using lists. Furthermore, we can perform rows slicing using range definition. However, one thing to consider here, while defining the rows the last row is also selected. So far we have studied that if we define a range say (0:3) then it means 0,1,2, but here it means 0,1,2, and 3. Next indexing technique is lable based indexing i.e., loc. In loc we can do the row slicing, however, we can also define the fields that we want. Furthermore, this definition of field can be set as 'to' or just some particular field. For e.x., we can say .loc[:2] asking for three rows. Meanwhile we can also add, .loc[:2, 'name':'mark']. This means to give us three rows for the fields from name to mark. However, we can be specific and say .loc[:2, ['name','mark']] which now implies just the columns name and mark. Second last indexing technique is integer-location based (iloc) which basically means that instead of writing down the name of the fields, we can simply provide their index which begins from 0 if you are curious. All the other things are same as loc. Lastly, we have single value access (.at or .iat) which is basically used if we want some specific row and specific column only."
   ]
  },
  {
   "cell_type": "markdown",
   "metadata": {},
   "source": [
    "### Python Module\n",
    "- A module is a single python file (.py) containing definitions, functions, classes, variables"
   ]
  },
  {
   "cell_type": "markdown",
   "metadata": {},
   "source": [
    "### Python Package\n",
    "- Apackage is a collection of Python modules grouped together within a directory, allowing them to be managed as a unit\n",
    "- Each package must contain an __init__(.py) file, which can be empty\n"
   ]
  },
  {
   "cell_type": "markdown",
   "metadata": {},
   "source": [
    "### Python Library\n",
    "- Grouping of modules and packages"
   ]
  },
  {
   "cell_type": "markdown",
   "metadata": {},
   "source": [
    "### Pandas (Data Format)\n",
    "- Series: Provide the data in a series form\n",
    "- DataFrame: Provides the data in tabular form where it uses Python's dictionary's 'key' as fields and the values of key as values"
   ]
  },
  {
   "cell_type": "code",
   "execution_count": 1,
   "metadata": {},
   "outputs": [
    {
     "name": "stdout",
     "output_type": "stream",
     "text": [
      "<class 'pandas.core.frame.DataFrame'>\n",
      "    Name  Age    Address\n",
      "0    Ram   23  Kathmandu\n",
      "1  Shyam   20   Lalitpur\n"
     ]
    }
   ],
   "source": [
    "import pandas as pd\n",
    "#crate new series\n",
    "num_series = pd.Series([1,2,3,4])\n",
    "\n",
    "#print(num_series)\n",
    "\n",
    "#create new Data Frame\n",
    "user_data = pd.DataFrame({\n",
    "    \"Name\" : [\"Ram\",\"Shyam\"],\n",
    "    \"Age\" : [23,20],\n",
    "    \"Address\" : [\"Kathmandu\", \"Lalitpur\"] \n",
    "})\n",
    "\n",
    "print(type(user_data))\n",
    "print(user_data)"
   ]
  },
  {
   "cell_type": "markdown",
   "metadata": {},
   "source": [
    "#### Rading from CSV File"
   ]
  },
  {
   "cell_type": "code",
   "execution_count": 6,
   "metadata": {},
   "outputs": [
    {
     "data": {
      "text/html": [
       "<div>\n",
       "<style scoped>\n",
       "    .dataframe tbody tr th:only-of-type {\n",
       "        vertical-align: middle;\n",
       "    }\n",
       "\n",
       "    .dataframe tbody tr th {\n",
       "        vertical-align: top;\n",
       "    }\n",
       "\n",
       "    .dataframe thead th {\n",
       "        text-align: right;\n",
       "    }\n",
       "</style>\n",
       "<table border=\"1\" class=\"dataframe\">\n",
       "  <thead>\n",
       "    <tr style=\"text-align: right;\">\n",
       "      <th></th>\n",
       "      <th>id</th>\n",
       "      <th>name</th>\n",
       "      <th>class</th>\n",
       "      <th>mark</th>\n",
       "      <th>gender</th>\n",
       "    </tr>\n",
       "  </thead>\n",
       "  <tbody>\n",
       "    <tr>\n",
       "      <th>0</th>\n",
       "      <td>1</td>\n",
       "      <td>John Deo</td>\n",
       "      <td>Four</td>\n",
       "      <td>75</td>\n",
       "      <td>female</td>\n",
       "    </tr>\n",
       "    <tr>\n",
       "      <th>1</th>\n",
       "      <td>2</td>\n",
       "      <td>Max Ruin</td>\n",
       "      <td>Three</td>\n",
       "      <td>85</td>\n",
       "      <td>male</td>\n",
       "    </tr>\n",
       "    <tr>\n",
       "      <th>2</th>\n",
       "      <td>3</td>\n",
       "      <td>Arnold</td>\n",
       "      <td>Three</td>\n",
       "      <td>55</td>\n",
       "      <td>male</td>\n",
       "    </tr>\n",
       "    <tr>\n",
       "      <th>3</th>\n",
       "      <td>4</td>\n",
       "      <td>Krish Star</td>\n",
       "      <td>Four</td>\n",
       "      <td>60</td>\n",
       "      <td>female</td>\n",
       "    </tr>\n",
       "    <tr>\n",
       "      <th>4</th>\n",
       "      <td>5</td>\n",
       "      <td>John Mike</td>\n",
       "      <td>Four</td>\n",
       "      <td>60</td>\n",
       "      <td>female</td>\n",
       "    </tr>\n",
       "    <tr>\n",
       "      <th>5</th>\n",
       "      <td>6</td>\n",
       "      <td>Alex John</td>\n",
       "      <td>Four</td>\n",
       "      <td>55</td>\n",
       "      <td>male</td>\n",
       "    </tr>\n",
       "    <tr>\n",
       "      <th>6</th>\n",
       "      <td>7</td>\n",
       "      <td>My John Rob</td>\n",
       "      <td>Fifth</td>\n",
       "      <td>78</td>\n",
       "      <td>male</td>\n",
       "    </tr>\n",
       "    <tr>\n",
       "      <th>7</th>\n",
       "      <td>8</td>\n",
       "      <td>Asruid</td>\n",
       "      <td>Five</td>\n",
       "      <td>85</td>\n",
       "      <td>male</td>\n",
       "    </tr>\n",
       "    <tr>\n",
       "      <th>8</th>\n",
       "      <td>9</td>\n",
       "      <td>Tes Qry</td>\n",
       "      <td>Six</td>\n",
       "      <td>78</td>\n",
       "      <td>male</td>\n",
       "    </tr>\n",
       "    <tr>\n",
       "      <th>9</th>\n",
       "      <td>10</td>\n",
       "      <td>Big John</td>\n",
       "      <td>Four</td>\n",
       "      <td>55</td>\n",
       "      <td>female</td>\n",
       "    </tr>\n",
       "  </tbody>\n",
       "</table>\n",
       "</div>"
      ],
      "text/plain": [
       "   id         name  class  mark  gender\n",
       "0   1     John Deo   Four    75  female\n",
       "1   2     Max Ruin  Three    85    male\n",
       "2   3       Arnold  Three    55    male\n",
       "3   4   Krish Star   Four    60  female\n",
       "4   5    John Mike   Four    60  female\n",
       "5   6    Alex John   Four    55    male\n",
       "6   7  My John Rob  Fifth    78    male\n",
       "7   8       Asruid   Five    85    male\n",
       "8   9      Tes Qry    Six    78    male\n",
       "9  10     Big John   Four    55  female"
      ]
     },
     "execution_count": 6,
     "metadata": {},
     "output_type": "execute_result"
    }
   ],
   "source": [
    "import pandas as pd\n",
    "\n",
    "# Read data from csv\n",
    "student_csv_data = pd.read_csv('Data/student.csv') \n",
    "student_csv_data.head(10) # Displays the top 5 data from the csv file by default. We can print custom number of data by passing the number as argument\n",
    "# student_csv_data.tail() # Same as head but for bottom 5 data\n"
   ]
  },
  {
   "cell_type": "markdown",
   "metadata": {},
   "source": [
    "#### Reading from Excel file"
   ]
  },
  {
   "cell_type": "code",
   "execution_count": 11,
   "metadata": {},
   "outputs": [
    {
     "data": {
      "text/html": [
       "<div>\n",
       "<style scoped>\n",
       "    .dataframe tbody tr th:only-of-type {\n",
       "        vertical-align: middle;\n",
       "    }\n",
       "\n",
       "    .dataframe tbody tr th {\n",
       "        vertical-align: top;\n",
       "    }\n",
       "\n",
       "    .dataframe thead th {\n",
       "        text-align: right;\n",
       "    }\n",
       "</style>\n",
       "<table border=\"1\" class=\"dataframe\">\n",
       "  <thead>\n",
       "    <tr style=\"text-align: right;\">\n",
       "      <th></th>\n",
       "      <th>id</th>\n",
       "      <th>name</th>\n",
       "      <th>class</th>\n",
       "      <th>mark</th>\n",
       "      <th>gender</th>\n",
       "    </tr>\n",
       "  </thead>\n",
       "  <tbody>\n",
       "    <tr>\n",
       "      <th>0</th>\n",
       "      <td>1</td>\n",
       "      <td>John Deo</td>\n",
       "      <td>Four</td>\n",
       "      <td>75</td>\n",
       "      <td>female</td>\n",
       "    </tr>\n",
       "    <tr>\n",
       "      <th>1</th>\n",
       "      <td>2</td>\n",
       "      <td>Max Ruin</td>\n",
       "      <td>Three</td>\n",
       "      <td>85</td>\n",
       "      <td>male</td>\n",
       "    </tr>\n",
       "    <tr>\n",
       "      <th>2</th>\n",
       "      <td>3</td>\n",
       "      <td>Arnold</td>\n",
       "      <td>Three</td>\n",
       "      <td>55</td>\n",
       "      <td>male</td>\n",
       "    </tr>\n",
       "    <tr>\n",
       "      <th>3</th>\n",
       "      <td>4</td>\n",
       "      <td>Krish Star</td>\n",
       "      <td>Four</td>\n",
       "      <td>60</td>\n",
       "      <td>female</td>\n",
       "    </tr>\n",
       "    <tr>\n",
       "      <th>4</th>\n",
       "      <td>5</td>\n",
       "      <td>John Mike</td>\n",
       "      <td>Four</td>\n",
       "      <td>60</td>\n",
       "      <td>female</td>\n",
       "    </tr>\n",
       "  </tbody>\n",
       "</table>\n",
       "</div>"
      ],
      "text/plain": [
       "   id        name  class  mark  gender\n",
       "0   1    John Deo   Four    75  female\n",
       "1   2    Max Ruin  Three    85    male\n",
       "2   3      Arnold  Three    55    male\n",
       "3   4  Krish Star   Four    60  female\n",
       "4   5   John Mike   Four    60  female"
      ]
     },
     "execution_count": 11,
     "metadata": {},
     "output_type": "execute_result"
    }
   ],
   "source": [
    "# Read data from xlsx (Excel) file\n",
    "student_excel_data = pd.read_excel('Data/student.xlsx')\n",
    "student_excel_data.head()"
   ]
  },
  {
   "cell_type": "markdown",
   "metadata": {},
   "source": [
    "#### Reading from Json File"
   ]
  },
  {
   "cell_type": "code",
   "execution_count": 10,
   "metadata": {},
   "outputs": [
    {
     "data": {
      "text/html": [
       "<div>\n",
       "<style scoped>\n",
       "    .dataframe tbody tr th:only-of-type {\n",
       "        vertical-align: middle;\n",
       "    }\n",
       "\n",
       "    .dataframe tbody tr th {\n",
       "        vertical-align: top;\n",
       "    }\n",
       "\n",
       "    .dataframe thead th {\n",
       "        text-align: right;\n",
       "    }\n",
       "</style>\n",
       "<table border=\"1\" class=\"dataframe\">\n",
       "  <thead>\n",
       "    <tr style=\"text-align: right;\">\n",
       "      <th></th>\n",
       "      <th>id</th>\n",
       "      <th>name</th>\n",
       "      <th>class</th>\n",
       "      <th>mark</th>\n",
       "      <th>gender</th>\n",
       "    </tr>\n",
       "  </thead>\n",
       "  <tbody>\n",
       "    <tr>\n",
       "      <th>0</th>\n",
       "      <td>1</td>\n",
       "      <td>John Deo</td>\n",
       "      <td>Four</td>\n",
       "      <td>75</td>\n",
       "      <td>female</td>\n",
       "    </tr>\n",
       "    <tr>\n",
       "      <th>1</th>\n",
       "      <td>2</td>\n",
       "      <td>Max Ruin</td>\n",
       "      <td>Three</td>\n",
       "      <td>85</td>\n",
       "      <td>male</td>\n",
       "    </tr>\n",
       "    <tr>\n",
       "      <th>2</th>\n",
       "      <td>3</td>\n",
       "      <td>Arnold</td>\n",
       "      <td>Three</td>\n",
       "      <td>55</td>\n",
       "      <td>male</td>\n",
       "    </tr>\n",
       "    <tr>\n",
       "      <th>3</th>\n",
       "      <td>4</td>\n",
       "      <td>Krish Star</td>\n",
       "      <td>Four</td>\n",
       "      <td>60</td>\n",
       "      <td>female</td>\n",
       "    </tr>\n",
       "    <tr>\n",
       "      <th>4</th>\n",
       "      <td>5</td>\n",
       "      <td>John Mike</td>\n",
       "      <td>Four</td>\n",
       "      <td>60</td>\n",
       "      <td>female</td>\n",
       "    </tr>\n",
       "  </tbody>\n",
       "</table>\n",
       "</div>"
      ],
      "text/plain": [
       "   id        name  class  mark  gender\n",
       "0   1    John Deo   Four    75  female\n",
       "1   2    Max Ruin  Three    85    male\n",
       "2   3      Arnold  Three    55    male\n",
       "3   4  Krish Star   Four    60  female\n",
       "4   5   John Mike   Four    60  female"
      ]
     },
     "execution_count": 10,
     "metadata": {},
     "output_type": "execute_result"
    }
   ],
   "source": [
    "stu_json_data = pd.read_json('Data/studentj.json')\n",
    "stu_json_data.head()"
   ]
  },
  {
   "cell_type": "markdown",
   "metadata": {},
   "source": [
    "### Saving the files"
   ]
  },
  {
   "cell_type": "code",
   "execution_count": 1,
   "metadata": {},
   "outputs": [],
   "source": [
    "import pandas as pd\n",
    "\n",
    "#create new Data Frame\n",
    "user_data = pd.DataFrame({\n",
    "    \"Name\" : [\"Ram\",\"Shyam\"],\n",
    "    \"Age\" : [23,20],\n",
    "    \"Address\" : [\"Kathmandu\", \"Lalitpur\"] \n",
    "})\n",
    "\n",
    "user_data.to_csv('Data/user_data.csv')\n",
    "user_data.to_excel('Data/user_data.xlsx')\n",
    "user_data.to_json('Data/user_data.json')"
   ]
  },
  {
   "cell_type": "markdown",
   "metadata": {},
   "source": [
    "## Basic Data Exploration"
   ]
  },
  {
   "cell_type": "markdown",
   "metadata": {},
   "source": [
    "### Data Inspection"
   ]
  },
  {
   "cell_type": "code",
   "execution_count": 5,
   "metadata": {},
   "outputs": [
    {
     "data": {
      "text/html": [
       "<div>\n",
       "<style scoped>\n",
       "    .dataframe tbody tr th:only-of-type {\n",
       "        vertical-align: middle;\n",
       "    }\n",
       "\n",
       "    .dataframe tbody tr th {\n",
       "        vertical-align: top;\n",
       "    }\n",
       "\n",
       "    .dataframe thead th {\n",
       "        text-align: right;\n",
       "    }\n",
       "</style>\n",
       "<table border=\"1\" class=\"dataframe\">\n",
       "  <thead>\n",
       "    <tr style=\"text-align: right;\">\n",
       "      <th></th>\n",
       "      <th>id</th>\n",
       "      <th>mark</th>\n",
       "    </tr>\n",
       "  </thead>\n",
       "  <tbody>\n",
       "    <tr>\n",
       "      <th>count</th>\n",
       "      <td>35.000000</td>\n",
       "      <td>35.000000</td>\n",
       "    </tr>\n",
       "    <tr>\n",
       "      <th>mean</th>\n",
       "      <td>18.000000</td>\n",
       "      <td>74.657143</td>\n",
       "    </tr>\n",
       "    <tr>\n",
       "      <th>std</th>\n",
       "      <td>10.246951</td>\n",
       "      <td>16.401117</td>\n",
       "    </tr>\n",
       "    <tr>\n",
       "      <th>min</th>\n",
       "      <td>1.000000</td>\n",
       "      <td>18.000000</td>\n",
       "    </tr>\n",
       "    <tr>\n",
       "      <th>25%</th>\n",
       "      <td>9.500000</td>\n",
       "      <td>62.500000</td>\n",
       "    </tr>\n",
       "    <tr>\n",
       "      <th>50%</th>\n",
       "      <td>18.000000</td>\n",
       "      <td>79.000000</td>\n",
       "    </tr>\n",
       "    <tr>\n",
       "      <th>75%</th>\n",
       "      <td>26.500000</td>\n",
       "      <td>88.000000</td>\n",
       "    </tr>\n",
       "    <tr>\n",
       "      <th>max</th>\n",
       "      <td>35.000000</td>\n",
       "      <td>96.000000</td>\n",
       "    </tr>\n",
       "  </tbody>\n",
       "</table>\n",
       "</div>"
      ],
      "text/plain": [
       "              id       mark\n",
       "count  35.000000  35.000000\n",
       "mean   18.000000  74.657143\n",
       "std    10.246951  16.401117\n",
       "min     1.000000  18.000000\n",
       "25%     9.500000  62.500000\n",
       "50%    18.000000  79.000000\n",
       "75%    26.500000  88.000000\n",
       "max    35.000000  96.000000"
      ]
     },
     "execution_count": 5,
     "metadata": {},
     "output_type": "execute_result"
    }
   ],
   "source": [
    "import pandas as pd\n",
    "\n",
    "students = pd.read_csv('Data/student.csv')\n",
    "# print(students.shape)\n",
    "# students.head()\n",
    "# print(students.tail())\n",
    "# print(students.info())\n",
    "students.describe()"
   ]
  },
  {
   "cell_type": "markdown",
   "metadata": {},
   "source": [
    "## Data Selection and Indexing in Pandas"
   ]
  },
  {
   "cell_type": "markdown",
   "metadata": {},
   "source": [
    "- Basic Indexing\n",
    "- Label-based Indexing (.loc[])\n",
    "- Integer-Label-based Indexing (.iloc[])\n",
    "- Single value access (.at[], .iat[])"
   ]
  },
  {
   "cell_type": "markdown",
   "metadata": {},
   "source": [
    "#### Basic indexing"
   ]
  },
  {
   "cell_type": "code",
   "execution_count": null,
   "metadata": {},
   "outputs": [
    {
     "name": "stdout",
     "output_type": "stream",
     "text": [
      "    id         name\n",
      "0    1     John Deo\n",
      "1    2     Max Ruin\n",
      "2    3       Arnold\n",
      "3    4   Krish Star\n",
      "4    5    John Mike\n",
      "5    6    Alex John\n",
      "6    7  My John Rob\n",
      "7    8       Asruid\n",
      "8    9      Tes Qry\n",
      "9   10     Big John\n",
      "10  11       Ronald\n",
      "11  12        Recky\n",
      "12  13          Kty\n",
      "13  14         Bigy\n",
      "14  15     Tade Row\n",
      "15  16        Gimmy\n",
      "16  17        Tumyu\n",
      "17  18        Honny\n",
      "18  19        Tinny\n",
      "19  20       Jackly\n",
      "20  21   Babby John\n",
      "21  22       Reggid\n",
      "22  23        Herod\n",
      "23  24    Tiddy Now\n",
      "24  25     Giff Tow\n",
      "25  26       Crelea\n",
      "26  27     Big Nose\n",
      "27  28    Rojj Base\n",
      "28  29  Tess Played\n",
      "29  30    Reppy Red\n",
      "30  31  Marry Toeey\n",
      "31  32    Binn Rott\n",
      "32  33    Kenn Rein\n",
      "33  34     Gain Toe\n",
      "34  35   Rows Noump\n",
      "    id         name  mark\n",
      "0    1     John Deo    75\n",
      "1    2     Max Ruin    85\n",
      "2    3       Arnold    55\n",
      "3    4   Krish Star    60\n",
      "4    5    John Mike    60\n",
      "5    6    Alex John    55\n",
      "6    7  My John Rob    78\n",
      "7    8       Asruid    85\n",
      "8    9      Tes Qry    78\n",
      "9   10     Big John    55\n",
      "10  11       Ronald    89\n",
      "11  12        Recky    94\n",
      "12  13          Kty    88\n",
      "13  14         Bigy    88\n",
      "14  15     Tade Row    88\n",
      "15  16        Gimmy    88\n",
      "16  17        Tumyu    54\n",
      "17  18        Honny    75\n",
      "18  19        Tinny    18\n",
      "19  20       Jackly    65\n",
      "20  21   Babby John    69\n",
      "21  22       Reggid    55\n",
      "22  23        Herod    79\n",
      "23  24    Tiddy Now    78\n",
      "24  25     Giff Tow    88\n",
      "25  26       Crelea    79\n",
      "26  27     Big Nose    81\n",
      "27  28    Rojj Base    86\n",
      "28  29  Tess Played    55\n",
      "29  30    Reppy Red    79\n",
      "30  31  Marry Toeey    88\n",
      "31  32    Binn Rott    90\n",
      "32  33    Kenn Rein    96\n",
      "33  34     Gain Toe    69\n",
      "34  35   Rows Noump    88\n",
      "   id         name  class  mark  gender\n",
      "0   1     John Deo   Four    75  female\n",
      "1   2     Max Ruin  Three    85    male\n",
      "2   3       Arnold  Three    55    male\n",
      "3   4   Krish Star   Four    60  female\n",
      "4   5    John Mike   Four    60  female\n",
      "5   6    Alex John   Four    55    male\n",
      "6   7  My John Rob  Fifth    78    male\n",
      "7   8       Asruid   Five    85    male\n",
      "8   9      Tes Qry    Six    78    male\n",
      "9  10     Big John   Four    55  female\n"
     ]
    }
   ],
   "source": [
    "print(students['id']) # Single column as a series\n",
    "new_std_data = students[['id','name','mark']].copy()\n",
    "print(new_std_data) # Multiple columns as a DataFrame\n",
    "\n",
    "# Slicing rows\n",
    "first_10_rows = students[:10].copy()\n",
    "print(first_10_rows) # only first rows (dataframe)\n",
    "last_five_rows = students[30:].copy()\n",
    "print(last_five_rows) # rows from index 30 to last index (dataframe)"
   ]
  },
  {
   "cell_type": "markdown",
   "metadata": {},
   "source": [
    "### Label based index (.loc[])\n",
    "- .loc is used for selecting rows and columns by label\n",
    "- we can use single labels, list of labels, or slices of labels"
   ]
  },
  {
   "cell_type": "code",
   "execution_count": 1,
   "metadata": {},
   "outputs": [
    {
     "name": "stdout",
     "output_type": "stream",
     "text": [
      "Simple loc from here: \n",
      "id               2\n",
      "name      Max Ruin\n",
      "class        Three\n",
      "mark          85.0\n",
      "gender        male\n",
      "Name: 1, dtype: object\n",
      "   id      name  class  mark  gender\n",
      "0   1  John Deo   Four   NaN  female\n",
      "1   2  Max Ruin  Three  85.0    male\n",
      "2   3    Arnold  Three  55.0    male\n"
     ]
    }
   ],
   "source": [
    "# Selecting rows based on label. loc takes the last range as well so 0:2 is normally 0,1 but here it is 0,1,2\n",
    "import pandas as pd\n",
    "students = pd.read_csv('Data/student.csv')\n",
    "first_row = students.loc[1]\n",
    "first_two_rows = students.loc[:2]\n",
    "\n",
    "print(\"Simple loc from here: \")\n",
    "print(first_row)\n",
    "print(first_two_rows)\n",
    "\n",
    "# # Selecting specific rows to columns\n",
    "# print('Selecting specific rows from here:')\n",
    "# print()\n",
    "# first_two_stds_with_name_to_marks = students.loc[0:2,'name':'mark'] # first 3 rows with column from name to mark including name and mark\n",
    "# print(first_two_stds_with_name_to_marks)\n",
    "\n",
    "# frist_and_second_row_with_name_and_gender = students.loc[[1,2], ['name','gender']] # first and second rows, with name and gender as columns\n",
    "# frist_and_second_row_with_name_and_gender\n",
    "\n"
   ]
  },
  {
   "cell_type": "markdown",
   "metadata": {},
   "source": [
    "## Integer-Location Based Indexing"
   ]
  },
  {
   "cell_type": "markdown",
   "metadata": {},
   "source": [
    "- .iloc[] is used for selecting rows adn columns by integer index postiions\n",
    "- Similar to .loc[] we can use single integer, list of integers, or slices"
   ]
  },
  {
   "cell_type": "code",
   "execution_count": null,
   "metadata": {},
   "outputs": [
    {
     "name": "stdout",
     "output_type": "stream",
     "text": [
      "id               2\n",
      "name      Max Ruin\n",
      "class        Three\n",
      "mark            85\n",
      "gender        male\n",
      "Name: 1, dtype: object\n",
      "   id      name  class  mark  gender\n",
      "0   1  John Deo   Four    75  female\n",
      "1   2  Max Ruin  Three    85    male\n",
      "2   3    Arnold  Three    55    male\n",
      "       name\n",
      "0  John Deo\n",
      "1  Max Ruin\n"
     ]
    },
    {
     "data": {
      "text/html": [
       "<div>\n",
       "<style scoped>\n",
       "    .dataframe tbody tr th:only-of-type {\n",
       "        vertical-align: middle;\n",
       "    }\n",
       "\n",
       "    .dataframe tbody tr th {\n",
       "        vertical-align: top;\n",
       "    }\n",
       "\n",
       "    .dataframe thead th {\n",
       "        text-align: right;\n",
       "    }\n",
       "</style>\n",
       "<table border=\"1\" class=\"dataframe\">\n",
       "  <thead>\n",
       "    <tr style=\"text-align: right;\">\n",
       "      <th></th>\n",
       "      <th>id</th>\n",
       "      <th>gender</th>\n",
       "    </tr>\n",
       "  </thead>\n",
       "  <tbody>\n",
       "    <tr>\n",
       "      <th>4</th>\n",
       "      <td>5</td>\n",
       "      <td>female</td>\n",
       "    </tr>\n",
       "    <tr>\n",
       "      <th>5</th>\n",
       "      <td>6</td>\n",
       "      <td>male</td>\n",
       "    </tr>\n",
       "  </tbody>\n",
       "</table>\n",
       "</div>"
      ],
      "text/plain": [
       "   id  gender\n",
       "4   5  female\n",
       "5   6    male"
      ]
     },
     "execution_count": 8,
     "metadata": {},
     "output_type": "execute_result"
    }
   ],
   "source": [
    "# Selecting rows based on index positions\n",
    "\n",
    "print(students.iloc[1])\n",
    "print(students.iloc[:3])\n",
    "\n",
    "# Slicing rows\n",
    "\n",
    "print(students.iloc[0:2,1:2]) # Rows 0 to 2, columns 1 to 2\n",
    "students.iloc[[4,5],[0,4]] # Rows 4 and 5, columns 0 and 4"
   ]
  },
  {
   "cell_type": "markdown",
   "metadata": {},
   "source": [
    "### Single value access (.at[] and .iat[])\n",
    "- .at[] is used for accessing a single scalar value by label\n",
    "- .iat[] is for accessing by index position"
   ]
  },
  {
   "cell_type": "code",
   "execution_count": null,
   "metadata": {},
   "outputs": [],
   "source": [
    "# Using .at[] to access single value by label\n",
    "print(students.at[1,'name'])    # Value in row 1, column 'name'\n",
    "\n",
    "# Using .iat[] to access single value by position\n",
    "print(students.iat[6, 1]) # Value in row 6, column 1"
   ]
  }
 ],
 "metadata": {
  "kernelspec": {
   "display_name": "Python 3",
   "language": "python",
   "name": "python3"
  },
  "language_info": {
   "codemirror_mode": {
    "name": "ipython",
    "version": 3
   },
   "file_extension": ".py",
   "mimetype": "text/x-python",
   "name": "python",
   "nbconvert_exporter": "python",
   "pygments_lexer": "ipython3",
   "version": "3.10.12"
  }
 },
 "nbformat": 4,
 "nbformat_minor": 2
}
