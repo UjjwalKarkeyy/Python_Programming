{
 "cells": [
  {
   "cell_type": "markdown",
   "metadata": {},
   "source": [
    "# Ujjwal Karki\n",
    "## Introduction about the work on the first week's Python class.\n",
    "\n",
    "##### This Jupyter Notebook assignment starts with an introductory activity of the programming which prints out “Hello World” output. From there, it goes further to present the foundation of Data Manipulation through variable initialization and string manipulation. For example, it learns the ability to find out individual characters in the name or the number of characters in a given name, creating a foundation of the data manipulation.\n",
    "\n",
    "##### The next section discusses control flow statement, especially conditional statements including if, elif, and else. Programme flow using conditions is also explained using a number of examples such as to identify days of the week, schedule times for activities depending on the input information from the user. In this part, the ability of conditional structures in Python code to make legitimate choices is discussed.\n",
    "\n",
    "##### Basing on control structures, the assignment goes further to discuss loops with example of while and for loop. Here examples are iterations of loops; printing of sequences; addition of numbers; etc. These exercises demonstrate the manner in which repetition is managed in Python with the use of the sleep function that helps in the management of time at which the loop will execute.\n",
    "\n",
    "##### Such composite data structures as lists, which are used for storage and processing of collections of data, are also discussed in the assignment. Several list manipulations are carried out including list append, list remove, list count and list extend. Besides, it briefly describes such notions as shallow and deep copy of a list, and provides examples of value checking within the list and creation of formatted strings based on elements of the list.\n",
    "\n",
    "##### In this respect, this notebook depicts core computational skills in Python that enable learners practical programming instruments. It includes an equal number of problems to ensure that students will be confident with basic Python syntax and computation control constructs as the basis for the tougher work.\n"
   ]
  },
  {
   "cell_type": "markdown",
   "metadata": {},
   "source": [
    "# This is my first hello world in Jupyter notebook"
   ]
  },
  {
   "cell_type": "code",
   "execution_count": 5,
   "metadata": {},
   "outputs": [
    {
     "name": "stdout",
     "output_type": "stream",
     "text": [
      "The length of your whole name is: 15.\n",
      "Your first name is: Osama, middle name is: Bin, and your last name is: Ladin\n"
     ]
    }
   ],
   "source": [
    "# hello = \"Hello World\"\n",
    "# print(hello)\n",
    "# a = 5\n",
    "# b = 15\n",
    "# print(a,b)\n",
    "# highest_mountain = \"Everest\"\n",
    "# print(highest_mountain)\n",
    "\n",
    "# real_imaginary = 5j\n",
    "\n",
    "\n",
    "#Try gareko maile\n",
    "\n",
    "name = \"Osama Bin Ladin\"\n",
    "\n",
    "length_of_name = len(name)\n",
    "first_name = name[0:5]\n",
    "middle_name = name[6:9]\n",
    "last_name = name[10:]\n",
    "\n",
    "print(f\"The length of your whole name is: {length_of_name}.\\nYour first name is: {first_name}, middle name is: {middle_name}, and your last name is: {last_name}\")\n"
   ]
  },
  {
   "cell_type": "markdown",
   "metadata": {},
   "source": [
    "# Control Flow Statement\n"
   ]
  },
  {
   "cell_type": "markdown",
   "metadata": {},
   "source": [
    "### Conditional Statement\n",
    "- if\n",
    "- elif (else if)\n",
    "- else"
   ]
  },
  {
   "cell_type": "code",
   "execution_count": 5,
   "metadata": {},
   "outputs": [
    {
     "name": "stdout",
     "output_type": "stream",
     "text": [
      "Today is Wednesday\n"
     ]
    }
   ],
   "source": [
    "day = 4\n",
    "\n",
    "if(day == 4):\n",
    "    \n",
    "    print(\"Today is Wednesday\")\n",
    "\n",
    "elif(day == 5):\n",
    "    print(\"Today is Thursday\")\n",
    "\n",
    "\n",
    "else:\n",
    "    print(\"Happy Holiday Broski!\")\n"
   ]
  },
  {
   "cell_type": "code",
   "execution_count": 20,
   "metadata": {},
   "outputs": [
    {
     "name": "stdout",
     "output_type": "stream",
     "text": [
      "Time for Math\n"
     ]
    }
   ],
   "source": [
    "time = int(input(\"Enter the time: \"))\n",
    "\n",
    "if (time in range(10,12)):\n",
    "    print(\"Time for Math\")\n",
    "\n",
    "elif (time in range(12,14)):\n",
    "    print(\"Time for DSA\")\n",
    "\n",
    "elif (time in range(14,15)):\n",
    "    print(\"Time for English\")\n",
    "\n",
    "else:\n",
    "    print(\"Holiday\")\n",
    "    "
   ]
  },
  {
   "cell_type": "markdown",
   "metadata": {},
   "source": [
    "## Loops (Iteration)\n",
    "- While\n",
    "- For\n",
    "- (No Do while in Python)"
   ]
  },
  {
   "cell_type": "code",
   "execution_count": 10,
   "metadata": {},
   "outputs": [
    {
     "name": "stdout",
     "output_type": "stream",
     "text": [
      "Hello 0-_- Hello 1-_- Hello 2-_- Hello 3-_- Hello 4-_- Hello 5-_- Hello 6-_- Hello 7-_- Hello 8-_- Hello 9-_- "
     ]
    }
   ],
   "source": [
    "from time import sleep\n",
    "\n",
    "count = 0\n",
    "max = 10\n",
    "while (count in range(count,max)):\n",
    "    print(f'Hello {count}' + '-_-', end = ' ')\n",
    "    count += 1\n",
    "    sleep(1)"
   ]
  },
  {
   "cell_type": "markdown",
   "metadata": {},
   "source": [
    "#### Sum of first 100 natural numbers"
   ]
  },
  {
   "cell_type": "code",
   "execution_count": 33,
   "metadata": {},
   "outputs": [
    {
     "name": "stdout",
     "output_type": "stream",
     "text": [
      "5050\n"
     ]
    }
   ],
   "source": [
    "num = 0\n",
    "count = 1\n",
    "min = 1\n",
    "max = 100\n",
    "\n",
    "while(count in range(min,max+1)):\n",
    "    \n",
    "    num = num + count\n",
    "    count += 1\n",
    "\n",
    "print(num)\n"
   ]
  },
  {
   "cell_type": "markdown",
   "metadata": {},
   "source": [
    "#### Find the sum of first n even numbers, n = 100 using while loop"
   ]
  },
  {
   "cell_type": "code",
   "execution_count": 34,
   "metadata": {},
   "outputs": [
    {
     "name": "stdout",
     "output_type": "stream",
     "text": [
      "Even is: 2550 and Odd is: 2500\n"
     ]
    }
   ],
   "source": [
    "even = 0\n",
    "count = 1\n",
    "odd = 0\n",
    "min = 1\n",
    "max = 100\n",
    "\n",
    "while(count in range(min,max+1)):\n",
    "\n",
    "    if(count % 2 == 0):\n",
    "        even = even + count\n",
    "\n",
    "    else:\n",
    "        odd = odd + count\n",
    "\n",
    "    count += 1\n",
    "\n",
    "print(f\"Even is: {even} and Odd is: {odd}\")"
   ]
  },
  {
   "cell_type": "markdown",
   "metadata": {},
   "source": [
    "## Composite Data Types\n",
    "- List\n",
    "- Tuple\n",
    "- Set\n",
    "- Dictionary "
   ]
  },
  {
   "cell_type": "markdown",
   "metadata": {},
   "source": [
    "### List Practice\n",
    "- A list is ordered collection of items"
   ]
  },
  {
   "cell_type": "code",
   "execution_count": 3,
   "metadata": {},
   "outputs": [
    {
     "name": "stdout",
     "output_type": "stream",
     "text": [
      "First element of numbers is: 1\n",
      "Number of items in numbers is: 6.\n",
      "Last element of numbers is: 4\n"
     ]
    }
   ],
   "source": [
    "numbers = [1, 2, 3, 3, 4, 4]\n",
    "students = ['Ram', 'Hari', 'Shyam']\n",
    "\n",
    "# Access elements from list\n",
    "\n",
    "first_number = numbers[0]\n",
    "\n",
    "print(f\"First element of numbers is: {first_number}\")\n",
    "\n",
    "#count total number of items\n",
    "total_items = len(numbers)\n",
    "\n",
    "#last element\n",
    "last_ele = numbers[total_items-1]\n",
    "\n",
    "print(f\"Number of items in numbers is: {total_items}.\\nLast element of numbers is: {last_ele}\")"
   ]
  },
  {
   "cell_type": "markdown",
   "metadata": {},
   "source": [
    "### List Methods\n",
    "- append (adds new item at the end)\n",
    "- pop (removes last element)\n",
    "- count (returns total number of items)\n",
    "- insert (inserts item at particular index)\n",
    "- extend (extends the list)\n",
    "- copy (copies the items)\n",
    "- clear (deleted the items)"
   ]
  },
  {
   "cell_type": "code",
   "execution_count": 23,
   "metadata": {},
   "outputs": [
    {
     "name": "stdout",
     "output_type": "stream",
     "text": [
      "[1, 4, 3, 5, 5, 6, 7, 100]\n",
      "[1, 4, 3, 5, 5, 6, 7]\n",
      "2\n",
      "[10, 1, 4, 3, 5, 5, 6, 7]\n",
      "[10, 1, 4, 3, 5, 5, 6, 7]\n",
      "[1, 2, 2, 3, 4]\n",
      "[]\n",
      "Rama doesn'\t exist in students\n"
     ]
    }
   ],
   "source": [
    "#Creating a list of numbers to work with for practicing the list methods\n",
    "numbers = [1,4,3,5,5,6,7]\n",
    "\n",
    "#Appending 100 to the end of numbers list and printing it on the next line using print\n",
    "numbers.append(100)\n",
    "print(numbers)\n",
    "\n",
    "#Pop means removing the last element from a list meaning that the 100 I have added will be removed\n",
    "numbers.pop()\n",
    "print(numbers)\n",
    "\n",
    "#Count is used to count the number of times a particular item appears on a list. Here, I have checked the occuring of 5 on numbers list which is 2.\n",
    "print(numbers.count(5))\n",
    "\n",
    "#Inserting number 10 to 0 index of numbers meaning 1 will now be replaced by 10\n",
    "numbers.insert(0,10)\n",
    "print(numbers)\n",
    "\n",
    "#Copying the numbers list to num_copy\n",
    "num_copy = numbers.copy()\n",
    "print(num_copy)\n",
    "\n",
    "\n",
    "#I have created two list: numbers1 and numbers2. Then used extend to extend the numbers1 list to now include numbers2 items as well.\n",
    "numbers1 = [1,2]\n",
    "numbers2 = [2,3,4]\n",
    "numbers1.extend(numbers2)\n",
    "print(numbers1)\n",
    "\n",
    "#Clear basically removes everything on the list returning back an empty list\n",
    "numbers.clear()\n",
    "print(numbers)\n",
    "\n",
    "#Checking the existence of a value in a list\n",
    "if 'Rama' in students:\n",
    "    print('Rama exists in students')\n",
    "\n",
    "else:\n",
    "    print('Rama doesn\\'\\t exist in students')"
   ]
  },
  {
   "cell_type": "markdown",
   "metadata": {},
   "source": [
    "#### Deep copy: Copies the memory reference\n",
    "#### Shallow copy: Copying the values not the reference"
   ]
  },
  {
   "cell_type": "markdown",
   "metadata": {},
   "source": [
    "### Loop through list\n"
   ]
  },
  {
   "cell_type": "code",
   "execution_count": 38,
   "metadata": {},
   "outputs": [
    {
     "name": "stdout",
     "output_type": "stream",
     "text": [
      "Sum of all items on the list is: 27\n",
      "1009 -1009\n"
     ]
    }
   ],
   "source": [
    "#Find the sum of all items of given list\n",
    "numbers = [1,2,3,4,5,6,6]\n",
    "length = len(numbers)\n",
    "index = 0\n",
    "sum = 0\n",
    "while(index < length):\n",
    "    sum += numbers[index]\n",
    "    index += 1\n",
    "\n",
    "print(f\"Sum of all items on the list is: {sum}\")\n",
    "\n",
    "#Find the max value from the given list\n",
    "\n",
    "numbers2 = [-50,3,9,100,-10,1009]\n",
    "numbers3 = [-50,3,9,100,-10,-1009]\n",
    "length = len(numbers2)\n",
    "index = 1  \n",
    "temp = 0\n",
    "min = 0\n",
    "\n",
    "#Comparing each values in the list. This is takes more comparison\n",
    "# while(index < length):\n",
    "\n",
    "#     if(numbers2[index-1] > numbers2[index]):\n",
    "#         temp = numbers2[index-1]\n",
    "    \n",
    "#     else:\n",
    "#         temp = numbers2[index]\n",
    "    \n",
    "#     index += 1\n",
    "\n",
    "index = 0\n",
    "\n",
    "while(index < length):\n",
    "\n",
    "    #Finds the maximum\n",
    "    if(numbers2[index] > temp):\n",
    "        temp = numbers2[index]\n",
    "\n",
    "    #Finds the minimum\n",
    "    if(numbers3[index] < min):\n",
    "        min = numbers3[index]\n",
    "    \n",
    "    index += 1\n",
    "\n",
    "print(temp,min)\n",
    "\n",
    "\n"
   ]
  },
  {
   "cell_type": "markdown",
   "metadata": {},
   "source": [
    "## Join all the list items into single string"
   ]
  },
  {
   "cell_type": "code",
   "execution_count": 44,
   "metadata": {},
   "outputs": [
    {
     "name": "stdout",
     "output_type": "stream",
     "text": [
      "Ram,Hari,Gopal\n",
      "1-2-3\n"
     ]
    }
   ],
   "source": [
    "students = ['Ram', 'Hari', 'Gopal']\n",
    "all_students = ','.join(students)\n",
    "print(all_students)\n",
    "\n",
    "#Joining numbers\n",
    "num = [1,2,3]\n",
    "all_num = '-'.join([str(i) for i in num])\n",
    "print(all_num)  "
   ]
  }
 ],
 "metadata": {
  "kernelspec": {
   "display_name": "Python 3",
   "language": "python",
   "name": "python3"
  },
  "language_info": {
   "codemirror_mode": {
    "name": "ipython",
    "version": 3
   },
   "file_extension": ".py",
   "mimetype": "text/x-python",
   "name": "python",
   "nbconvert_exporter": "python",
   "pygments_lexer": "ipython3",
   "version": "3.10.12"
  }
 },
 "nbformat": 4,
 "nbformat_minor": 2
}
