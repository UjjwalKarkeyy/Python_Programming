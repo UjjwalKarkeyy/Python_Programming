{
 "cells": [
  {
   "cell_type": "markdown",
   "metadata": {},
   "source": [
    "# <center><b>Week-7 Python Programming</b></center>\n",
    "## <center><b>Debugging and Testing</b></center>\n",
    "### <center><i><u>Author: Ujjwal Karki</u></i></center>"
   ]
  },
  {
   "cell_type": "markdown",
   "metadata": {},
   "source": [
    "### Types of testing:\n",
    "- Unit testing\n",
    "- Integration testing\n",
    "- Functional testing \n",
    "- End-to-End testing (E2E)\n",
    "- Regression testing"
   ]
  }
 ],
 "metadata": {
  "language_info": {
   "name": "python"
  }
 },
 "nbformat": 4,
 "nbformat_minor": 2
}
