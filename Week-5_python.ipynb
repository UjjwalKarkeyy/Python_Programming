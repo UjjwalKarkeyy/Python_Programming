{
 "cells": [
  {
   "cell_type": "markdown",
   "metadata": {},
   "source": [
    "# <center><b>Week-5 Python Programming</b></center>\n",
    "## <center><b>Numpy Continuation</b></center>\n",
    "### <center><i><u>Author: Ujjwal Karki</u></i></center>"
   ]
  },
  {
   "cell_type": "markdown",
   "metadata": {},
   "source": [
    "## Reshaping 1,6 array to 2x3 array"
   ]
  },
  {
   "cell_type": "code",
   "execution_count": 10,
   "metadata": {},
   "outputs": [
    {
     "name": "stdout",
     "output_type": "stream",
     "text": [
      "Original array:\n",
      " [1 2 3 4 5 6]\n",
      "------------------\n",
      "Reshaped array:\n",
      " [[1 2 3]\n",
      " [4 5 6]]\n"
     ]
    }
   ],
   "source": [
    "# Reshaping 1,6 array to 2,3 array\n",
    "import numpy as np\n",
    "\n",
    "arr = np.array([1,2,3,4,5,6])\n",
    "\n",
    "newarr = arr.reshape(2,3)\n",
    "\n",
    "print(\"Original array:\\n\", arr)\n",
    "print(\"------------------\")\n",
    "print(\"Reshaped array:\\n\", newarr)  "
   ]
  },
  {
   "cell_type": "markdown",
   "metadata": {},
   "source": [
    "### Flatten array\n",
    "- Flatten method flattens array to one dimensional and returns copy of collapsed array"
   ]
  },
  {
   "cell_type": "code",
   "execution_count": 11,
   "metadata": {},
   "outputs": [
    {
     "name": "stdout",
     "output_type": "stream",
     "text": [
      "[[1 2 3]\n",
      " [4 5 6]]\n",
      "---------\n",
      "[1 2 3 4 5 6]\n"
     ]
    }
   ],
   "source": [
    "# Flatten array \n",
    "arr = np.array([[1,2,3],[4,5,6]])\n",
    "\n",
    "fltarr = arr.flatten()\n",
    "print(arr)\n",
    "print(\"---------\")\n",
    "print(fltarr)"
   ]
  },
  {
   "cell_type": "markdown",
   "metadata": {},
   "source": [
    "### Numpy Array indexing and slicing\n",
    "\n",
    "<br><b>Basic indexing</b><br>\n",
    "Indexing allow us to access the individual elements or subsets of data"
   ]
  },
  {
   "cell_type": "code",
   "execution_count": 12,
   "metadata": {},
   "outputs": [
    {
     "name": "stdout",
     "output_type": "stream",
     "text": [
      "(6,)\n",
      "1\n",
      "6\n",
      "4\n",
      "Print dimension of array: \n",
      "2\n",
      "Shape of the array: \n",
      "(3, 3)\n",
      "Total items of the array: \n",
      "9\n",
      "first row first element\n",
      "1\n",
      "second row last element\n",
      "6\n",
      "last row last element\n",
      "9\n",
      "third row second element\n",
      "8\n"
     ]
    }
   ],
   "source": [
    "# 1D array indexing\n",
    "\n",
    "arr = np.array([1,2,3,4,5,6])\n",
    "print(arr.shape)\n",
    "print(arr[0])  # prints 1\n",
    "print(arr[-1])  # last element\n",
    "print(arr[3])  # fourth element\n",
    "\n",
    "# 2D array indexing\n",
    "num_2d_array = np.array(\n",
    "    [\n",
    "        [1, 2, 3],\n",
    "        [4, 5, 6],\n",
    "        [7, 8, 9]\n",
    "    ]\n",
    ")\n",
    "\n",
    "print(\"Print dimension of array: \")\n",
    "print(num_2d_array.ndim) # prints the dimension of the array\n",
    "print(\"Shape of the array: \")\n",
    "print(num_2d_array.shape) # prints the shape of the array\n",
    "print(\"Total items of the array: \")\n",
    "print(num_2d_array.size) # prints the total number of the array\n",
    "\n",
    "print(\"first row first element\")\n",
    "print(num_2d_array[0,0])\n",
    "print(\"second row last element\")\n",
    "print(num_2d_array[1,-1])\n",
    "print(\"last row last element\")\n",
    "print(num_2d_array[-1,-1])\n",
    "print(\"third row second element\")\n",
    "print(num_2d_array[-1,1])\n"
   ]
  },
  {
   "cell_type": "markdown",
   "metadata": {},
   "source": [
    "### Slicing numpy\n",
    "In numpy we can access the portion of an array using the slice operator ``:``"
   ]
  },
  {
   "cell_type": "markdown",
   "metadata": {},
   "source": [
    "### 1D array slicing\n",
    "Syntax: ``array[start:stop:step]``\n",
    "- ``start``: index of the first element to be included in slice\n",
    "- ``stop``: index of the last element (exclusive) \n",
    "- ``step``: index of the slice between each element in slice\n"
   ]
  },
  {
   "cell_type": "code",
   "execution_count": 13,
   "metadata": {},
   "outputs": [
    {
     "name": "stdout",
     "output_type": "stream",
     "text": [
      "[3 4 5 6]\n",
      "-----------------\n",
      "[1 3 5 7]\n",
      "-----------------\n",
      "[5 6 7 8]\n",
      "-----------------\n",
      "[1 3 5 7]\n",
      "-----------------\n",
      "[8 6 4 2]\n",
      "-----------------\n",
      "[100 100 100 100 100   6   7   8]\n"
     ]
    }
   ],
   "source": [
    "arr = np.array([1,2,3,4,5,6,7,8])\n",
    "\n",
    "# slicing array from index 2-6 6(exclusive)\n",
    "print(arr[2:6])\n",
    "print(\"-----------------\")\n",
    "\n",
    "# slicing array from 0 to 8 with a step size of 2\n",
    "print(arr[0:8:2])\n",
    "print(\"-----------------\")\n",
    "# slicing array from 4 to last element\n",
    "\n",
    "print(arr[4:])\n",
    "print(\"-----------------\")\n",
    "\n",
    "print(arr[::2])\n",
    "print(\"-----------------\")\n",
    "\n",
    "# negative index\n",
    "print(arr[-1::-2])\n",
    "print(\"-----------------\")\n",
    "\n",
    "# we can also modify the array with slicing\n",
    "\n",
    "arr[:5] = 100 # replace items from 0-5 with 100\n",
    "print(arr)"
   ]
  },
  {
   "cell_type": "markdown",
   "metadata": {},
   "source": [
    "# 2-D array slicing\n",
    "\n",
    "syntax: ```array[row_start:row_stop:row_step, col_start:col_stop:col_step]```"
   ]
  },
  {
   "cell_type": "code",
   "execution_count": 14,
   "metadata": {},
   "outputs": [
    {
     "name": "stdout",
     "output_type": "stream",
     "text": [
      "2\n",
      "[[1 2]\n",
      " [4 5]]\n"
     ]
    }
   ],
   "source": [
    "array2d = np.array(\n",
    "    [\n",
    "        [1, 2, 3],\n",
    "        [4, 5, 6],\n",
    "        [7, 8, 9]\n",
    "    ]\n",
    ")\n",
    "\n",
    "print(array2d.ndim)\n",
    "\n",
    "# slicing first row\n",
    "print(array2d[0:2,0:2])\n",
    "\n"
   ]
  },
  {
   "cell_type": "markdown",
   "metadata": {},
   "source": [
    "### Boolean array indexing\n",
    "\n",
    "Boolean array indexing allows us to select elements from an array based on conditions. This technique is helpful when we need to filter elements based on certain condition."
   ]
  },
  {
   "cell_type": "code",
   "execution_count": 15,
   "metadata": {},
   "outputs": [
    {
     "name": "stdout",
     "output_type": "stream",
     "text": [
      "[20 25 30]\n",
      "[10 20 30]\n",
      "[ 5 10 15 99 99 99]\n",
      "[3 4 5 6]\n",
      "[[1 2 3]\n",
      " [4 0 0]]\n"
     ]
    }
   ],
   "source": [
    "# Creating an array\n",
    "arr = np.array([5,10,15,20,25,30])\n",
    "\n",
    "# Select elements greater than 15\n",
    "print(arr[arr>15])\n",
    "\n",
    "# Select elements that are even\n",
    "print(arr[arr % 2 == 0])\n",
    "\n",
    "# Modify elements that satisfy a condition\n",
    "arr[arr > 15] = 99\n",
    "print(arr)\n",
    "\n",
    "# Boolean indexing on a 2-dimensional array\n",
    "array2d = np.array([[1,2,3],[4,5,6]])\n",
    "\n",
    "# Extract elements greater than 4\n",
    "print(array2d[array2d>2]) # Returns one D output\n",
    "\n",
    "# Selecting elements greater than 4 to zero\n",
    "array2d[array2d>4] = 0 # Returns 2D output as we are just changing the values\n",
    "print(array2d)\n"
   ]
  },
  {
   "cell_type": "markdown",
   "metadata": {},
   "source": [
    "### Numpy operations\n",
    "- Numpy arithmetic array operations\n",
    "- Numpy array functions\n",
    "- Numpy comparison/logical functions\n",
    "- Numpy math functions\n",
    "- Numpy constants\n",
    "- Numpy statistical functions"
   ]
  },
  {
   "cell_type": "markdown",
   "metadata": {},
   "source": [
    "#### Numpy arithmetic array operations\n",
    "- add()\n",
    "- subtract()\n",
    "- multiply()\n",
    "- divide()\n",
    "- power()\n",
    "- mod()"
   ]
  },
  {
   "cell_type": "code",
   "execution_count": 16,
   "metadata": {},
   "outputs": [
    {
     "name": "stdout",
     "output_type": "stream",
     "text": [
      "Add:  [5 7 9]\n",
      "Subtract:  [3 3 3]\n",
      "Mul:  [ 4 10 18]\n",
      "Div:  [0.25 0.4  0.5 ]\n",
      "Power:  [  1  32 729]\n",
      "Mod:  [0 1 0]\n"
     ]
    }
   ],
   "source": [
    "first_array = np.array([1,2,3])\n",
    "second_array = np.array([4,5,6])\n",
    "\n",
    "add_array = np.add(first_array,second_array)\n",
    "print(\"Add: \",add_array)\n",
    "\n",
    "sub_array = np.subtract(second_array,first_array)\n",
    "print(\"Subtract: \",sub_array)\n",
    "\n",
    "mul_array = np.multiply(first_array,second_array)\n",
    "print(\"Mul: \",mul_array)\n",
    "\n",
    "divide_array = np.divide(first_array,second_array)\n",
    "print(\"Div: \",divide_array)\n",
    "\n",
    "power_array = np.power(first_array,second_array)\n",
    "print(\"Power: \",power_array)\n",
    "\n",
    "mod_array = np.mod(second_array,first_array)\n",
    "print(\"Mod: \",mod_array)\n"
   ]
  },
  {
   "cell_type": "markdown",
   "metadata": {},
   "source": [
    "### Numpy broadcasting\n",
    "- Broadcasting in numpy allows it to perform arithmetic operations on arrays with different sizes"
   ]
  },
  {
   "cell_type": "code",
   "execution_count": 17,
   "metadata": {},
   "outputs": [
    {
     "ename": "ValueError",
     "evalue": "operands could not be broadcast together with shapes (4,) (2,) ",
     "output_type": "error",
     "traceback": [
      "\u001b[0;31m---------------------------------------------------------------------------\u001b[0m",
      "\u001b[0;31mValueError\u001b[0m                                Traceback (most recent call last)",
      "Cell \u001b[0;32mIn[17], line 4\u001b[0m\n\u001b[1;32m      1\u001b[0m firsts_array \u001b[38;5;241m=\u001b[39m np\u001b[38;5;241m.\u001b[39marray([\u001b[38;5;241m1\u001b[39m,\u001b[38;5;241m2\u001b[39m,\u001b[38;5;241m3\u001b[39m,\u001b[38;5;241m4\u001b[39m])\n\u001b[1;32m      2\u001b[0m temp_array \u001b[38;5;241m=\u001b[39m np\u001b[38;5;241m.\u001b[39marray([\u001b[38;5;241m1\u001b[39m,\u001b[38;5;241m4\u001b[39m])\n\u001b[0;32m----> 4\u001b[0m \u001b[38;5;28mprint\u001b[39m(\u001b[43mfirsts_array\u001b[49m\u001b[43m \u001b[49m\u001b[38;5;241;43m*\u001b[39;49m\u001b[43m \u001b[49m\u001b[43mtemp_array\u001b[49m)\n",
      "\u001b[0;31mValueError\u001b[0m: operands could not be broadcast together with shapes (4,) (2,) "
     ]
    }
   ],
   "source": [
    "firsts_array = np.array([1,2,3,4])\n",
    "temp_array = np.array([1,4])\n",
    "\n",
    "print(firsts_array * temp_array)"
   ]
  },
  {
   "cell_type": "markdown",
   "metadata": {},
   "source": [
    "### Numpy array functions\n",
    "Numpy has various built-in functions for various purposes:\n",
    "- array creation functions: np.array(), np.zeros(), np.ones(), np.empty(), etc\n",
    "- manipulation: np.reshape(), np.transpose()\n",
    "- mathematical operations: np.sum(), np.mean(), np.std(), np.max(), np.min(), np.sqrt(), etc\n",
    "- statitical: np.median(), np.mean(), np.std(), np.var()"
   ]
  },
  {
   "cell_type": "code",
   "execution_count": null,
   "metadata": {},
   "outputs": [
    {
     "name": "stdout",
     "output_type": "stream",
     "text": [
      "3.5\n",
      "1.707825127659933\n",
      "3.5\n",
      "2.9166666666666665\n",
      "[[1 4]\n",
      " [2 5]\n",
      " [3 6]]\n",
      "[[1 2 3]\n",
      " [4 5 6]]\n"
     ]
    }
   ],
   "source": [
    "data = np.array([1,2,3,4,5,6])\n",
    "array2d = np.array([[1,2,3],[4,5,6]])\n",
    "\n",
    "print(np.mean(data))\n",
    "print(np.std(data))\n",
    "print(np.median(data))\n",
    "print(np.var(data))\n",
    "\n",
    "print(np.transpose(array2d))\n",
    "print(np.reshape(data, (2,3)))"
   ]
  },
  {
   "cell_type": "markdown",
   "metadata": {},
   "source": [
    "### Numpy mathematical and statistical functions"
   ]
  },
  {
   "cell_type": "code",
   "execution_count": 18,
   "metadata": {},
   "outputs": [
    {
     "name": "stdout",
     "output_type": "stream",
     "text": [
      "[1.         1.41421356 1.73205081 2.        ]\n",
      "[1. 2. 3. 4.]\n",
      "Mean marks:  56.2\n",
      "Median marks:  55.5\n",
      "Minimum marks:  10\n",
      "Minimum marks:  100\n"
     ]
    }
   ],
   "source": [
    "numbers = [1,2,3,4]\n",
    "\n",
    "sqrt_num = np.sqrt(numbers)\n",
    "print(sqrt_num)\n",
    "square_numbers = np.square(sqrt_num)\n",
    "print(square_numbers)\n",
    "\n",
    "# conpute the mean\n",
    "stu_marks = np.array([30,40,57,67,100,99,10,71,54,34])\n",
    "mean_marks = np.mean(stu_marks)\n",
    "print(\"Mean marks: \",mean_marks)\n",
    "\n",
    "#compute the median\n",
    "median_marks = np.median(stu_marks)\n",
    "print(\"Median marks: \",median_marks)\n",
    "\n",
    "# min and max marks\n",
    "min_marks = np.min(stu_marks)\n",
    "print(\"Minimum marks: \", min_marks)\n",
    "\n",
    "max_marks = np.max(stu_marks)\n",
    "print(\"Minimum marks: \", max_marks)\n"
   ]
  },
  {
   "cell_type": "markdown",
   "metadata": {},
   "source": [
    "### Numpy matrix operations\n",
    "- Matrix multiplication: ``np.matmul()``\n",
    "- dot product: ``np.dot()``\n",
    "- cross product: ``np.cross()``\n",
    "- transpose: ``np.transpose()``\n",
    "- inverse: ``np.linalg.inverse()``\n",
    "- Determinant: ``np.linalg.det()`` linalg => Linear algebra\n",
    "- Norm: ``np.linalg.norm()``\n",
    "- Trace: ``np.linalg.trace()``"
   ]
  },
  {
   "cell_type": "code",
   "execution_count": null,
   "metadata": {},
   "outputs": [
    {
     "name": "stdout",
     "output_type": "stream",
     "text": [
      "[[ 48  54  60]\n",
      " [111 126 141]\n",
      " [174 198 222]]\n",
      "Dot product is:  32\n"
     ]
    }
   ],
   "source": [
    "matrix1 = np.array([\n",
    "    [1,2,3],\n",
    "    [4,5,6],\n",
    "    [7,8,9]\n",
    "])\n",
    "\n",
    "matrix2 = np.array([\n",
    "    [4,5,6],\n",
    "    [7,8,9],\n",
    "    [10,11,12]\n",
    "])\n",
    "\n",
    "print(np.matmul(matrix1,matrix2))\n",
    "\n",
    "# finding the dot product\n",
    "vec1 = [1,2,3]\n",
    "vec2 = [4,5,6]\n",
    "dot_prd = np.dot(vec1, vec2)\n",
    "print(\"Dot product is: \",dot_prd)\n",
    "\n",
    "\n",
    "\n"
   ]
  },
  {
   "cell_type": "markdown",
   "metadata": {},
   "source": [
    "### Misc. mathematical functions\n",
    "- Trigonometry: sine(), cos(), tan(), etc\n",
    "- Hyperbolic: sineh(), cosh(), tanh(), etc\n",
    "- Logarithmic: log(), exp(), log10()\n",
    "- round(), floor(),ceil(), absolute()"
   ]
  },
  {
   "cell_type": "code",
   "execution_count": 3,
   "metadata": {},
   "outputs": [
    {
     "data": {
      "image/png": "[encoded data removed]",
      "text/plain": [
       "<Figure size 1000x500 with 1 Axes>"
      ]
     },
     "metadata": {},
     "output_type": "display_data"
    }
   ],
   "source": [
    "import numpy as np\n",
    "import matplotlib.pyplot as plt\n",
    "\n",
    "# Generate x values \n",
    "x = np.linspace(-2*np.pi, 2 * np.pi, 100)\n",
    "\n",
    "# calcualte y values\n",
    "y_sin = np.sin(x)\n",
    "\n",
    "# create the plot\n",
    "plt.figure(figsize=(10, 5))\n",
    "\n",
    "# plot the sine curve an its opposite phase\n",
    "plt.plot(x, y_sin, label='since cruve', color = 'blue')\n",
    "\n",
    "plt.legend()\n",
    "plt.grid(True)\n",
    "\n",
    "plt.show()"
   ]
  },
  {
   "cell_type": "markdown",
   "metadata": {},
   "source": [
    "### Find out the similarity between following two sentences using cosine similarity\n",
    "\n",
    "- sky is blue\n",
    "- Ocean is blue\n",
    "\n",
    "<br>Use TD-TDF algorithms to vectorize the sentences</br>\n",
    "``TF (t) = total number of occurence of term t in sentece (doc)/ total length of words in sentence (doc)``\n",
    "``IDF (t) = log(total sentence(doc) length)/no of documents contains term t``\n",
    "\n",
    "tf - idf score = tf * idf\n",
    "\n"
   ]
  },
  {
   "cell_type": "code",
   "execution_count": 13,
   "metadata": {},
   "outputs": [
    {
     "name": "stdout",
     "output_type": "stream",
     "text": [
      "0.9808836238914657\n"
     ]
    }
   ],
   "source": [
    "# Basic NLP\n",
    "\n",
    "import numpy as np\n",
    "\n",
    "sentence1 = 'Sky is blue'.lower()\n",
    "sentence2 = 'Ocean is blue'.lower()\n",
    "\n",
    "def tf_idf(sentence, word):\n",
    "    total_doc_size = 2 # total number of sentences\n",
    "\n",
    "    tf = sentence.count(word) / len(sentence.split())\n",
    "    \n",
    "    idf = np.log1p(total_doc_size/1 if word in sentence1 else 0 + 1 if word in sentence2 else 0)\n",
    "\n",
    "    return tf * idf\n",
    "\n",
    "vec1 = [tf_idf(sentence1, word) for word in sentence1.split()]\n",
    "vec2 = [tf_idf(sentence2, word) for word in sentence2.split()]\n",
    "\n",
    "similarity = np.dot(vec1, vec2) / (np.linalg.norm(vec1) * np.linalg.norm(vec2))\n",
    "print(similarity)"
   ]
  },
  {
   "cell_type": "markdown",
   "metadata": {},
   "source": [
    "### Simple linear regression"
   ]
  }
 ],
 "metadata": {
  "kernelspec": {
   "display_name": "Python 3",
   "language": "python",
   "name": "python3"
  },
  "language_info": {
   "codemirror_mode": {
    "name": "ipython",
    "version": 3
   },
   "file_extension": ".py",
   "mimetype": "text/x-python",
   "name": "python",
   "nbconvert_exporter": "python",
   "pygments_lexer": "ipython3",
   "version": "3.10.12"
  }
 },
 "nbformat": 4,
 "nbformat_minor": 2
}
